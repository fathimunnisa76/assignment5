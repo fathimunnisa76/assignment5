{
 "cells": [
  {
   "cell_type": "code",
   "execution_count": 1,
   "id": "d3b9c24e",
   "metadata": {},
   "outputs": [
    {
     "name": "stdout",
     "output_type": "stream",
     "text": [
      "teen age\n"
     ]
    }
   ],
   "source": [
    "my_age=20\n",
    "if my_age<20:\n",
    "    print(\"teen age\")\n",
    "else:\n",
    "    print(\"younge age\")"
   ]
  },
  {
   "cell_type": "code",
   "execution_count": 6,
   "id": "e46cb213",
   "metadata": {},
   "outputs": [
    {
     "name": "stdout",
     "output_type": "stream",
     "text": [
      "younge age\n"
     ]
    }
   ],
   "source": [
    "my_age=30\n",
    "if my_age<20:\n",
    "    print(\"teen age\")\n",
    "else:\n",
    "    print(\"younge age\")"
   ]
  },
  {
   "cell_type": "code",
   "execution_count": 9,
   "id": "55835bb1",
   "metadata": {},
   "outputs": [
    {
     "name": "stdout",
     "output_type": "stream",
     "text": [
      "teen age\n"
     ]
    }
   ],
   "source": [
    "my_age=10\n",
    "if my_age<20:\n",
    "    print(\"teen age\")\n",
    "else:\n",
    "    print(\"younge age\")"
   ]
  },
  {
   "cell_type": "code",
   "execution_count": 8,
   "id": "45ad5a6a",
   "metadata": {},
   "outputs": [
    {
     "name": "stdout",
     "output_type": "stream",
     "text": [
      "younge age\n"
     ]
    }
   ],
   "source": [
    "my_age=40\n",
    "if my_age<20:\n",
    "    print(\"teen age\")\n",
    "else:\n",
    "    print(\"younge age\")"
   ]
  },
  {
   "cell_type": "code",
   "execution_count": 10,
   "id": "22fe5ff0",
   "metadata": {},
   "outputs": [
    {
     "name": "stdout",
     "output_type": "stream",
     "text": [
      "weekday sales\n"
     ]
    }
   ],
   "source": [
    "today=\"monday\"\n",
    "if today==\"monday\" or today==\"tuesday\" or today==\"wednesday\" or today==\"thursday\" or today==\"friday\":\n",
    "    print(\"weekday sales\")\n",
    "else:\n",
    "    print(\"weekend sales\")"
   ]
  },
  {
   "cell_type": "code",
   "execution_count": 12,
   "id": "452aee94",
   "metadata": {},
   "outputs": [
    {
     "name": "stdout",
     "output_type": "stream",
     "text": [
      "i am profitable\n"
     ]
    }
   ],
   "source": [
    "sales=20\n",
    "if sales>10:\n",
    "    print(\"i am profitable\")\n",
    "else:\n",
    "    print(\"i lost\")"
   ]
  },
  {
   "cell_type": "code",
   "execution_count": 13,
   "id": "fc5a8616",
   "metadata": {},
   "outputs": [
    {
     "name": "stdout",
     "output_type": "stream",
     "text": [
      "I am elder\n"
     ]
    }
   ],
   "source": [
    "my_age=17\n",
    "mysis_age=12\n",
    "if my_age>mysis_age:\n",
    "    print(\"I am elder\")\n",
    "else:\n",
    "    print(\"I am younger\")"
   ]
  },
  {
   "cell_type": "code",
   "execution_count": 14,
   "id": "047f0426",
   "metadata": {},
   "outputs": [
    {
     "name": "stdout",
     "output_type": "stream",
     "text": [
      "30% discount\n"
     ]
    }
   ],
   "source": [
    "purchase_sales=150\n",
    "if purchase_sales>100:\n",
    "    print(\"30% discount\")\n",
    "elif purchase_sales<50:\n",
    "    print(\"10% discount\")\n",
    "else:\n",
    "    print(\"20% discount\")"
   ]
  },
  {
   "cell_type": "code",
   "execution_count": 2,
   "id": "c7f163ac",
   "metadata": {},
   "outputs": [
    {
     "name": "stdout",
     "output_type": "stream",
     "text": [
      "balcony\n"
     ]
    }
   ],
   "source": [
    "price=140\n",
    "if price==140:\n",
    "    print(\"balcony\")\n",
    "elif price==50:\n",
    "    print(\"chair\")\n",
    "elif price==100:\n",
    "    print(\"bences\")"
   ]
  },
  {
   "cell_type": "code",
   "execution_count": 3,
   "id": "7fda1546",
   "metadata": {},
   "outputs": [
    {
     "name": "stdout",
     "output_type": "stream",
     "text": [
      "bences\n"
     ]
    }
   ],
   "source": [
    "price=100\n",
    "if price==140:\n",
    "    print(\"balcony\")\n",
    "elif price==50:\n",
    "    print(\"chair\")\n",
    "elif price==100:\n",
    "    print(\"bences\")"
   ]
  },
  {
   "cell_type": "code",
   "execution_count": 4,
   "id": "82ae985f",
   "metadata": {},
   "outputs": [
    {
     "name": "stdout",
     "output_type": "stream",
     "text": [
      "chair\n"
     ]
    }
   ],
   "source": [
    "price=50\n",
    "if price==140:\n",
    "    print(\"balcony\")\n",
    "elif price==50:\n",
    "    print(\"chair\")\n",
    "elif price==100:\n",
    "    print(\"bencehes\")"
   ]
  },
  {
   "cell_type": "code",
   "execution_count": 5,
   "id": "73489a0f",
   "metadata": {},
   "outputs": [
    {
     "name": "stdout",
     "output_type": "stream",
     "text": [
      "bike or scooty\n"
     ]
    }
   ],
   "source": [
    "veh_type=2\n",
    "if veh_type==2:\n",
    "    print(\"bike or scooty\")\n",
    "elif veh_type==4:\n",
    "    print(\"bus or lorry or jeep or car\")"
   ]
  },
  {
   "cell_type": "code",
   "execution_count": 6,
   "id": "6afccc19",
   "metadata": {},
   "outputs": [
    {
     "name": "stdout",
     "output_type": "stream",
     "text": [
      "bus or lorry or jeep or car\n"
     ]
    }
   ],
   "source": [
    "veh_type=4\n",
    "if veh_type==2:\n",
    "    print(\"bike or scooty\")\n",
    "elif veh_type==4:\n",
    "    print(\"bus or lorry or jeep or car\")"
   ]
  }
 ],
 "metadata": {
  "kernelspec": {
   "display_name": "Python 3 (ipykernel)",
   "language": "python",
   "name": "python3"
  },
  "language_info": {
   "codemirror_mode": {
    "name": "ipython",
    "version": 3
   },
   "file_extension": ".py",
   "mimetype": "text/x-python",
   "name": "python",
   "nbconvert_exporter": "python",
   "pygments_lexer": "ipython3",
   "version": "3.10.9"
  }
 },
 "nbformat": 4,
 "nbformat_minor": 5
}
