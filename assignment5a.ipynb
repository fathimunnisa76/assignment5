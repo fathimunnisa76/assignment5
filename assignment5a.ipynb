{
 "cells": [
  {
   "cell_type": "code",
   "execution_count": 2,
   "id": "792a4702",
   "metadata": {},
   "outputs": [
    {
     "name": "stdout",
     "output_type": "stream",
     "text": [
      "{'family_Members': ['Saleem', 'shahanaz', 'fathima', 'umar', 'ershad', 'zoya', 'ashu', 'abrar', 'sajida', 'momin']}\n"
     ]
    }
   ],
   "source": [
    "family_members={\"family_Members\":[\"Saleem\",\"shahanaz\",\"fathima\",\"umar\",\"ershad\",\"zoya\",\"ashu\",\"abrar\",\"sajida\",\"momin\"]}\n",
    "print(family_members)"
   ]
  },
  {
   "cell_type": "code",
   "execution_count": 13,
   "id": "0dd039e2",
   "metadata": {},
   "outputs": [],
   "source": [
    "family_relations={\"familymember\":[\"saleem\",\"shahanaz\",\"fathima\",\"umar\",\"ershad\",\"zoya\",\"ashu\",\"abrar\",\"sajida\",\"momin\"],\"relation\":[\"father\",\"mother\",\"me\",\"bro1\",\"bro2\",\"sis1\",\"bro3\",\"bro4\",\"sis2\",\"bro5\"]}"
   ]
  },
  {
   "cell_type": "code",
   "execution_count": 19,
   "id": "6334d230",
   "metadata": {
    "scrolled": true
   },
   "outputs": [
    {
     "name": "stdout",
     "output_type": "stream",
     "text": [
      "My father name is saleem.\n",
      "my favourite family member is shahanaz (my mother.)\n"
     ]
    }
   ],
   "source": [
    "print(\"My father name is\",family_relations['familymember'][0]+\".\")\n",
    "print(\"my favourite family member is\",family_relations['familymember'][1],\"(my mother.)\")"
   ]
  },
  {
   "cell_type": "code",
   "execution_count": 29,
   "id": "6ddeea91",
   "metadata": {},
   "outputs": [],
   "source": [
    "friends_names={\"frnd_name\":[\"neelu\",\"santhoshi\",\"anjali\",\"nasheena\",\"sirisha\",\"vasu\",\"sharmila\",\"kusuma\",\"sudha\",\"sukee\",\"ishu\"],\"quality\":[\"well wisher\",\"intellegent\",\"brilliant\",\"selfish\",\"funny\",\"genius\",\"simple minded\",\"sharp\",\"selfish\",\"funny\",\"simple girl\"]}"
   ]
  },
  {
   "cell_type": "code",
   "execution_count": 39,
   "id": "12af14bc",
   "metadata": {},
   "outputs": [
    {
     "name": "stdout",
     "output_type": "stream",
     "text": [
      "my intelligent friend is santhoshi.\n"
     ]
    }
   ],
   "source": [
    "print(\"my intelligent friend is\",friends_names[\"frnd_name\"][1]+\".\")"
   ]
  },
  {
   "cell_type": "code",
   "execution_count": 40,
   "id": "403a6e4a",
   "metadata": {},
   "outputs": [
    {
     "name": "stdout",
     "output_type": "stream",
     "text": [
      "my bestie is anjali.\n"
     ]
    }
   ],
   "source": [
    "print(\"my bestie is\",friends_names[\"frnd_name\"][2]+\".\")"
   ]
  },
  {
   "cell_type": "code",
   "execution_count": 46,
   "id": "66b6d070",
   "metadata": {},
   "outputs": [
    {
     "name": "stdout",
     "output_type": "stream",
     "text": [
      "{'veg items': ['halwa', 'chapathi', 'parota', 'noodles', 'manchurya', 'samosa', 'ice cream', 'pani puri'], 'rating': [5, 3, 4, 3, 1, 4, 5, 4]}\n",
      "manchurya\n"
     ]
    }
   ],
   "source": [
    "food_items={\"veg items\":[\"halwa\",\"chapathi\",\"parota\",\"noodles\",\"manchurya\",\"samosa\",\"ice cream\",\"pani puri\"],\"rating\":[5,3,4,3,1,4,5,4]}\n",
    "print(food_items)\n",
    "print(food_items[\"veg items\"][4])"
   ]
  },
  {
   "cell_type": "code",
   "execution_count": 48,
   "id": "517113c1",
   "metadata": {},
   "outputs": [
    {
     "name": "stdout",
     "output_type": "stream",
     "text": [
      "{'non veg items': ['mutton biryani', 'chicken biryani', 'haleem', 'fish curry', 'crab curry', 'kfc chicken'], 'ratings': [5, 4, 5, 3, 4, 1]}\n",
      "kfc chicken\n"
     ]
    }
   ],
   "source": [
    "fooditems={\"non veg items\":[\"mutton biryani\",\"chicken biryani\",\"haleem\",\"fish curry\",\"crab curry\",\"kfc chicken\"],\"ratings\":[5,4,5,3,4,1]}\n",
    "print(fooditems)\n",
    "print(fooditems[\"non veg items\"][-1])"
   ]
  },
  {
   "cell_type": "code",
   "execution_count": 1,
   "id": "6ffa9ef2",
   "metadata": {},
   "outputs": [
    {
     "name": "stdout",
     "output_type": "stream",
     "text": [
      "{'destination': ['makkah', 'madeenah', 'hyderabad', 'kondapalli', 'kakani', 'thiruvur', 'new delhi', 'rajhamundry', 'rajasthan', 'mumbai', 'chennai'], 'ratings': [5, 5, 4, 4, 4, 4, 4, 3, 5, 4, 4]}\n"
     ]
    }
   ],
   "source": [
    "tourism_ratings={\"destination\":[\"makkah\",\"madeenah\",\"hyderabad\",\"kondapalli\",\"kakani\",\"thiruvur\",\"new delhi\",\"rajhamundry\",\"rajasthan\",\"mumbai\",\"chennai\"],\"ratings\":[5,5,4,4,4,4,4,3,5,4,4]}\n",
    "print(tourism_ratings)"
   ]
  },
  {
   "cell_type": "code",
   "execution_count": 2,
   "id": "ad8dd74c",
   "metadata": {},
   "outputs": [
    {
     "name": "stdout",
     "output_type": "stream",
     "text": [
      "rajhamundry\n"
     ]
    }
   ],
   "source": [
    "print(tourism_ratings[\"destination\"][-4])"
   ]
  }
 ],
 "metadata": {
  "kernelspec": {
   "display_name": "Python 3 (ipykernel)",
   "language": "python",
   "name": "python3"
  },
  "language_info": {
   "codemirror_mode": {
    "name": "ipython",
    "version": 3
   },
   "file_extension": ".py",
   "mimetype": "text/x-python",
   "name": "python",
   "nbconvert_exporter": "python",
   "pygments_lexer": "ipython3",
   "version": "3.10.9"
  }
 },
 "nbformat": 4,
 "nbformat_minor": 5
}
